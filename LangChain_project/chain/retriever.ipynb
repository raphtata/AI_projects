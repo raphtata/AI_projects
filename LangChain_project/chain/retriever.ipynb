{
 "cells": [
  {
   "cell_type": "markdown",
   "metadata": {},
   "source": [
    "## Retriever And Chain With Langchain"
   ]
  },
  {
   "cell_type": "code",
   "execution_count": 26,
   "metadata": {},
   "outputs": [
    {
     "data": {
      "text/plain": [
       "[Document(page_content=\"UNITED ARAB\\nEMIRATES\\nAn Expat's Handbook for Residing and Working in Abu Dhabi and DubaiMOVING TO THE \", metadata={'source': 'uae_guide.pdf', 'page': 0}),\n",
       " Document(page_content='CONTENTS\\nDiscovering United Arab Emirates - A Sneak Peak Into\\nWhat Awaits You\\nResidential Leasing in the UAE\\nAbu Dhabi\\nDubai\\nSelecting the Right School: A Guide for Parents and\\nStudents\\nApplying for a Residency Permit in the UAE\\nOpening a Bank Account in the UAE\\nObtaining a Driving License in the UAE\\nCompensation Packages: Understanding Salary\\nBenefits in the UAE\\nLiving Expenses', metadata={'source': 'uae_guide.pdf', 'page': 1}),\n",
       " Document(page_content=\"UNITED ARAB\\nEMIRATES\\nA SNEAK PEAK INTO WHAT\\nAWAITS YOU\\nThe UAE, a favored expatriate destination, boasts a flourishing business sector and contemporary living standards. It is composed of seven\\nemirates, which gained independence and came together as a country in 1971, following the end of British military protection in the region.\\nIf you are relocating for work, chances are you'll be heading either to Abu Dhabi, the capital of the UAE and home to the majority of its\\npopulation, or Dubai, the spectacular business hub of the country and the location of the world's tallest building.\\nTHE SEVEN EMIRATES OF THE UAE\\nThe UAE is made up of seven Emirates, including Abu\\nDhabi and Dubai, and also encompassing Ajman,\\nprimarily an agricultural region; Fujairah, an Emirate\\nknown for its picturesque countryside, mountains, and\\nstunning coastline; and Ras Al Khaimah, an Emirate\\nboasting 64km of beach coastline and Jebel Jais, the\\nUAE's highest peak.\\nSharjah is a conservative Emirate featuring museums, a\\nmangrove forest, a seaside promenade, and the\\narchaeologically significant Fossil Rock. On the other\\nhand, Umm Al Quwain, the least populous Emirate, holds\\na magnificent 18th-century fort and historic architecture.\", metadata={'source': 'uae_guide.pdf', 'page': 2}),\n",
       " Document(page_content=\"Location\\nThe UAE is located in Asia. It is situated in the South-Eastern\\nregion of the Asian continent, and in the Eastern part of the\\nArabian Peninsula. It overlooks the Arabian Gulf on the North\\nand North-West, borders the Kingdom of Saudi Arabia to the\\nWest and South and the Sultanate of Oman to the South-East.\\nClimate\\nThe UAE has a subtropical and arid climate, offering almost\\nconstant sunshine throughout the year. The winter months,\\nfrom November to April, are fantastic with pleasant and mild\\ntemperatures, averaging around 24°C during the day and\\nseldom dropping below 10°C at night.\\nSummers can be scorching, with daytime temperatures\\naveraging 40-45°C and sometimes reaching 50°C. During this\\nseason, people prefer indoor activities in comfortable, air-\\nconditioned places. Many expats use this time to travel and\\ntake holidays to avoid the extreme heat.\\nLanguage\\nThe UAE's official language is Arabic, but English is widely\\nspoken, along with Hindi, Urdu, and Persian. Road signs and\\nformal notices are displayed in both Arabic and English.Population\\nThe UAE's population is about 10 million, with around 20% being\\nUAE Nationals. The majority of expats come from various\\ncountries, with Indians being the highest in number.\\nApproximately 70% of the population is male, and about 65%\\nfall into the 'working age' range (25-54).\\nTime Zone\\nThe UAE time zone is GMT + 4, there is no day light savings.\\nReligion\\nIslam is the official and widely practiced religion in the UAE.\\nThe country's Constitution allows for freedom of religion in line\\nwith established customs, making the UAE tolerant of other\\nreligions. People are free to practice their own religious beliefs.\\nLaws\\nThe UAE's legal system is a combination of civil common law\\nand Sharia law (Islamic legal system). Therefore, it's essential\\nto have an understanding of Islamic culture and customs.\", metadata={'source': 'uae_guide.pdf', 'page': 3}),\n",
       " Document(page_content=\"Dress Code\\nThe UAE's dress code is generally liberal and tolerant, but it's\\nimportant for residents and tourists to respect the culture by\\nwearing appropriate clothes in public. For instance, women\\ncan wear shorts and sandals in malls and public areas, but not\\nat places of worship or government buildings.\\nSwimwear is acceptable at beaches, hotels, and resorts,\\nsimilar to anywhere else in the world. In restaurants, bars, and\\nnightclubs, there are glamorous outfits with minimal\\nrestrictions. However, nudity or vulgar attire is frowned upon.\\nWomen are not expected to cover their heads.\\nRamadan\\nDuring Ramadan, Muslims fast from dawn to dusk, abstaining\\nfrom food, drink, smoking, and unclean activities. The fast is\\nbroken with the Iftar feast at sunset. Eid Al Fitr follows, marked\\nby gift-giving among families, friends, neighbors, and charities.\\nThe country becomes quieter during Ramadan, and non-\\nfasting residents and tourists are encouraged to be respectful.\\nEating and drinking in public places are prohibited, and\\nmodest dress is expected. Schools and workplaces may\\nreduce hours during this time.National Dress\\nEmirati men wear a white ankle-length loose-fitting robe\\ncalled a Kandura, along with a patterned or white scarf (the\\nGhutrah) secured by a black band (an Agal). Women wear an\\nAbaya, a long black cloak, and loosely drape a black scarf\\ncalled a Shyla over their heads to cover their hair. It's not\\nexpected for non-Emiratis to wear the national dress.\\nDrugs\\nIn the UAE, drug use and possession are severe crimes, with\\nlittle leniency. When applying for a work permit, you might\\nhave to undergo a blood test to check for drug use, depending\\non the contract. If you carry prescription medication, it's\\nadvisable to have a prescription and check if the medications\\nare prohibited or controlled through the UAE Government\\nwebsite:https://u.ae/en/\", metadata={'source': 'uae_guide.pdf', 'page': 4}),\n",
       " Document(page_content=\"RESIDENTIAL LEASING IN THE UAE\\nIn the UAE, rental agreements are typically for a duration of one year.\\nTo initiate the tenancy contract preparation, you are required to provide a copy of your passport and residence visa.\\nAnticipate a processing time of around four to five working days for the contract. The agent, in coordination with the\\nlandlord, will handle all the necessary paperwork.\\nRent payments are typically made quarterly in the UAE, often through post-dated cheques given while signing the\\ncontract. Some landlords may prefer three payments instead of four. You may negotiate a better deal if you provide\\ntwo cheques. Always ensure you receive a receipt for any cheques you hand over.\\nYou'll need to pay a security deposit, usually ranging from 5% to 10% of the rental value.\\nIf you decide to terminate the contract before the year ends, there is usually a penalty of three months' rent.\\nAdditionally, you are required to give three months' notice before leaving the property.\\nA landlord can only increase the annual rent if they provide notice more than three months before signing a new\\ncontract and only if the current rent is below the market average.\\nA landlord can request you to vacate the property only if they give you one year's notice, and this can only be due to\\ntheir intention to live in the property, sell it, or carry out significant improvement works.\\nEach Emirate in the UAE has its own rental dispute resolution committees that handle complaints and represent\\ntenants or landlords in rental disputes.In the UAE, there are numerous fantastic places to live, offering a wide range of apartments, townhouses, and villas to fit\\nvarious preferences and budgets. Before proceeding with rental formalities, you'll need a residence visa and Emirates ID.\\nTo explore different areas and find the best fit for your needs, it's recommended to stay in a hotel or serviced apartment\\nupon arrival.\\nEssential Information to be Aware of\", metadata={'source': 'uae_guide.pdf', 'page': 5}),\n",
       " Document(page_content='ABU DHABI\\nAbu Dhabi, located in the North-Eastern part of the Arabian Gulf, shares borders with Oman to the\\nEast, Saudi Arabia to the South, and Dubai to the North-East. It is the largest Emirate in the UAE, with\\na majority of its land area being uninhabited desert (around 70%), and it boasts a 600-kilometer\\ncoastline. The most populated areas in Abu Dhabi are islands, totaling approximately 200 islands\\nlocated about 250 meters offshore. While some islands are flat, sandy, and uninhabited, others have\\nsignificant populations, attractive attractions, lush greenery, and a city lifestyle.\\nCompared to its neighboring and popular city, Dubai, life in Abu Dhabi tends to be slower-paced\\nand is often considered more family-friendly, making it a preferable choice for those seeking a place\\nto settle down.\\nYas Island\\nYas Island offers various apartment, villa, and townhouse sizes for both buying and renting. It is\\nrenowned for its famous tourist attractions, cafes, restaurants, malls, hotels, schools, and hospitals.\\nHowever, the luxury amenities and tourist appeal make accommodation on Yas Island quite\\nexpensive. The island is located 20 km East of Abu Dhabi city center and can be reached within\\napproximately 15 minutes by car from Abu Dhabi airport.', metadata={'source': 'uae_guide.pdf', 'page': 6}),\n",
       " Document(page_content=\"Al Reem Island is an ideal location for families, with tall buildings, walkways, and a beautiful\\nwaterfront setting. The apartments here offer luxurious amenities, making it a top choice for\\nthose seeking a modern lifestyle in Abu Dhabi. Additionally, Al Reem Island has many\\ncommercial buildings, schools, parks, restaurants, and malls for added convenience.Al Reem Island\\nSaadiyat Island in Abu Dhabi is a highly luxurious neighborhood, offering large villa complexes,\\nfive-star hotels, and stunning beachfront properties. It is known for its museums, beach clubs,\\ngolf clubs, and upscale malls. The island is situated to the North of the city center and can be\\nreached within a 20-minute drive from Abu Dhabi Airport.Saadiyat Island\\nKhalifa City\\nKhalifa City is a developing area with a rising population. Situated just outside Abu Dhabi's city\\ncenter, it offers a tranquil lifestyle away from the city's hustle and bustle while remaining close\\nto all attractions. This serene neighborhood features spacious parks, lovely houses, boutique\\nshops, and restaurants. Rent in Khalifa City is relatively lower than in other parts of the city but\\nhas been increasing lately. The area's popularity among young couples and families is due to\\nits abundance of schools and nurseries.\", metadata={'source': 'uae_guide.pdf', 'page': 7}),\n",
       " Document(page_content=\"The Corniche area in Abu Dhabi is a stunning neighborhood located along the main beach. It\\noffers various entertainment options and residential units with sea views. The area is rich in\\napartments, lounging spots, cafes, and restaurants. It also boasts good schools and some of\\nthe city's top hospitals. Being a popular tourist destination, the Corniche attracts visitors with\\nits beautiful turquoise water, pristine white sand, and well-kept boulevards.The Corniche\\nMohammed Bin Zayed City is a peaceful and comfortable neighborhood with excellent\\namenities. It is a new and family-friendly development in Abu Dhabi, offering a quiet\\nenvironment away from the city noise. Being on the outskirts, it provides a safe haven for\\nfamilies with children. Despite its tranquil setting, it remains conveniently close to industrial\\nareas, entertainment options, and malls.Mohammed Bin Zayed City\", metadata={'source': 'uae_guide.pdf', 'page': 8}),\n",
       " Document(page_content='DUBAI\\nDubai, situated on the South-East of the Arabian Gulf and North of the UAE\\'s coastline, is the most densely\\npopulated Emirate in the United Arab Emirates. It shares borders with Sharjah to the North-East, Abu Dhabi to the\\nSouth, and Oman to the South-East.\\nDubai has earned a reputation as a vibrant and thriving cosmopolitan city, attracting a population of 2.7 million,\\nwith over 90% being expatriates from various countries worldwide. It is known as one of the world\\'s most accessible\\nhubs for both business and leisure, and it is rapidly approaching the status of a \"global city.\"\\nDubai Marina and Jumeriah Beach Residences (JBR)\\nDubai Marina and JBR are at the center of \\'New Dubai.\\' Dubai Marina features a bustling Marina Walk with\\nnumerous shops and restaurants surrounding the artificial harbor. The area is known for its high-rise waterfront\\napartment towers. JBR, located along the Marina beach, is a long stretch of tall buildings and a preferred option for\\nyoung singles and couples. However, its popularity means that traffic in the evenings and weekends can be\\noccasionally frustrating.\\nDowntown\\nDowntown Dubai, home to the world\\'s tallest building, the Burj Khalifa, and the UAE\\'s largest mall, the Dubai Mall, is\\na vibrant neighborhood. It features a variety of villas and apartments and is recognized as a prominent business\\ndistrict hub.', metadata={'source': 'uae_guide.pdf', 'page': 9}),\n",
       " Document(page_content=\"Palm Jumeriah\\nCentrally located in Dubai, the Palm stands as an iconic and sought-after landmark for those seeking villas or\\napartments to buy. It provides breathtaking views of the Marina skyline and the mainland. Divided into a trunk, 16\\n'Fronds,' and the Crescent, The Palm offers a diverse selection of beachfront villas, townhouses, and apartments\\nwith various settings, sizes, and styles.\\nArabian Ranches\\nArabian Ranches is a tranquil suburb situated away from the bustling city. It is adorned with lush trees and well-\\nkept villas, making it a favored residential spot for Western expats. The area offers top-notch schools, clinics, a\\nshopping complex with cafes and restaurants, and golf clubs. Accommodation here can be pricey, but there is a\\nwide range of options available to accommodate various budgets, including 2 to 5-bedroom villas. Due to its\\nlocation outside the city, owning a car is necessary.\\nMirdif\\nMirdif, situated to the North and immediately East of Dubai International Airport, offers an affordable choice for\\nexpats relocating to Dubai. It is an excellent option for those seeking a central location without overspending on\\nproperty, especially for families. Mirdif provides access to schools, a public park with tennis courts, and a mall.\\nAl Barsha\\nDue to its convenient location near two major roads, Al Barsha is easily accessible for those working in Media City,\\nInternet City, and Emaar Business Park. Properties in Al Barsha mainly consist of detached and semi-detached\\nvillas, but some apartments are also available. The neighborhood boasts a variety of restaurants, cafes, shops,\\nand supermarkets. Additionally, the Mall of the Emirates, situated nearby, offers hundreds of shops, a large\\ncinema, and even an indoor ski slope.\", metadata={'source': 'uae_guide.pdf', 'page': 10}),\n",
       " Document(page_content='SELECTING THE\\nRIGHT SCHOOL \\nA GUIDE FOR PARENTS AND STUDENTS', metadata={'source': 'uae_guide.pdf', 'page': 11}),\n",
       " Document(page_content='Selecting the appropriate school for your children involves\\nextensive research, visiting schools, and careful consideration to\\nensure that the tuition fees align with your budget.\\nFactors to take into account includes:\\nTuition Fees\\nCurriculum\\nLocation\\nRanking and exam results\\nFacilities offered\\nOther factors - sports offered, extra curriculum activities and\\npastoral support', metadata={'source': 'uae_guide.pdf', 'page': 12}),\n",
       " Document(page_content=\"Tuition Fees\\nIn the UAE, expats have no access to Government-funded schools,\\nmaking private, fee-paying education the only option. Annual tuition\\nfees can vary depending on the child's grade level (fees tend to\\nincrease as the child progresses from primary to middle and high\\nschool), the curriculum, and the facilities offered by the specific\\nschool.\\nSchools with a strong academic reputation might charge a\\npremium or have limited availability. It is essential to understand\\nhow school fees work, as there are different types of schools,\\nincluding 'not for profit' and 'profit-making' schools, independent\\nschools, and those affiliated with international groups.\\nSome schools may offer corporate discounts, so it's worth checking\\nwith your HR department to see if this applies.\\nCurriculum\\nIn UAE schools, various curriculums are offered, and the selection of\\na specific curriculum depends on several factors. Parents have\\nnumerous options to choose from, including Indian, British,\\nAmerican, IB, and various other curriculums.\", metadata={'source': 'uae_guide.pdf', 'page': 13}),\n",
       " Document(page_content=\"Ranking\\nThe education sector in the country is overseen by the Ministry of Education. In\\nAbu Dhabi, the Abu Dhabi Department of Education and Knowledge (ADEK) is\\ndedicated to developing and monitoring the education system in the Emirate.\\nMeanwhile, in Dubai, the Knowledge and Human Development Authority\\n(KHDA) is responsible for inspecting all private schools to ensure the quality of\\neducation. Both organizations are also responsible for ranking schools. For\\nmore information, you can visit their respective websites:\\nhttps://web.khda.gov.ae/ and https://pass.adek.gov.ae/en.\\nRegistering for a school and waiting lists\\nPrivate schools handle their own enrollment and registration process, typically\\nrequiring students to undergo an assessment to evaluate their current\\nacademic or personal development level. This assessment may involve an\\nindividual interview or a group evaluation. Specific requirements can be\\nobtained from the school's admissions team.\\nWhile many schools accept online registrations through their websites, some\\nmay ask applicants to visit the school to complete the application process.\\nAdditionally, supporting documents will need to be submitted, as per the\\nschool's guidelines:\\nEmirates ID or copy of Emirates ID Application if in progress\\nPassport and Residency Visa copies\\nAttested birth certificate\\nMost recent passport size photograph of the student - colored with white\\nbackground.\", metadata={'source': 'uae_guide.pdf', 'page': 14}),\n",
       " Document(page_content=\"Please note that all documents must be in English or Arabic, and if\\nthey are not in these languages, legally translated and attested\\ncopies will be required. Children cannot legally start school until all\\nrequired documents are available for registration in KHDA's system.\\nWhile some schools may offer flexibility, it is advisable to have all\\nnecessary documents ready if possible.\\nMost schools will have a registration fee, and some may also charge\\nan assessment fee, with many having waiting lists. It's recommended\\nto start the school search process as early as possible.\\nTwo useful sources of information for schools are\\nschoolscompared.com and whichschooladvisor.com.\", metadata={'source': 'uae_guide.pdf', 'page': 15}),\n",
       " Document(page_content='APPLYING FOR A\\nRESIDENCY PERMIT\\nIN THE UAE', metadata={'source': 'uae_guide.pdf', 'page': 16}),\n",
       " Document(page_content='While residing in the United Arab Emirates, obtaining a residence\\nvisa and Emirates ID card is typically managed by your employer.\\nOnce you have these documents, you can sponsor your dependents,\\nsuch as a spouse and children.\\nTourist Visa\\nITourist visas to the UAE can be issued for either 30 days or 90 days,\\nallowing for single or multiple entries, depending on your chosen\\nplan. Tourists can extend their visas for an additional 30 days twice,\\nwithout the need to exit the country. \\nFor more information, please visit ica.gov.ae.', metadata={'source': 'uae_guide.pdf', 'page': 17}),\n",
       " Document(page_content=\"Visa Requirements\\nTo obtain residency, a medical examination is necessary. The\\nexamination includes a chest x-ray to detect TB and a blood test\\nto check HIV status. Individuals testing positive for HIV will be\\ndeclined residency.\\nAdditional essential documents that may be required includes:\\nBirth Certificates\\nMarriage Certificates\\nEducation documents\\nBefore being accepted in the UAE, all documents must be\\nattested by a Notary Public / Commissioner of Oaths in your\\nhome country.\\nIn addition to applying for a residence visa, you must also apply\\nfor an Emirates ID card, which is typically done simultaneously.\\nHaving a visa grants you the following prviliges:\\nOpening of Bank Account, Access Loans, Apply for Driver's License,\\nAccess Government Health Services and Health Insurances,\\nRegister Children in Schools, Work and Invest, Purchase a Mobile\\nPhone Contract and Travel Visa-Free to certain Destinations.\", metadata={'source': 'uae_guide.pdf', 'page': 18}),\n",
       " Document(page_content='OPENING A BANK\\nACCOUNT AND\\nOBTAINING A\\nDRIVING LICENSE IN\\nTHE UAE', metadata={'source': 'uae_guide.pdf', 'page': 19}),\n",
       " Document(page_content='Opening a Bank Account in the UAE\\nThe UAE has three types of banking systems, all regulated by\\nthe Central Bank of UAE. Each bank requires different\\ndocumentation for opening an account.\\nUsual documents required:\\nOriginal Passport with a minimum of three months\\nvalidity to expiry date\\nCopy of your visa page (a valid residence permit)\\nNo Objection Certificate from the Employer or\\nSponsor with the monthly salary.\\nOriginal Emirates ID card.', metadata={'source': 'uae_guide.pdf', 'page': 20}),\n",
       " Document(page_content=\"Obtaining a Driving License in the UAE\\nThe minimum age for driving a regular car in the UAE is 18 years old.\\nIf you possess a driving license from a foreign country that is on the\\neligible list, you can transfer your license. However, if your country is\\nnot on the list or you don't have an existing license, you will need to\\nretake your driving test.\\nTransferring your existing driving license into a UAE license, you will\\nneed to visit the department within your Emirates and bring the\\nfollowing with you:\\nOriginal and copy of driving license from the eligible countries\\nPassport - original and copy\\n1 colored passport photo\\nEye test certificate\\nCash payment for transfer fee and opening a driving file\\nNo Objection Certificate from the Employer or Sponsor.\\nEligible Countries\\nAustralia • Austria • Belgium • Canada • Denmark • Finland • France\\n• GCC countries • Germany • Greece • Netherlands • Ireland • Italy •\\nJapan • New Zealand • Norway • South Africa • South Korea • Spain •\\nSweden • Switzerland • Turkey • United Kingdom • United States of\\nAmerica \", metadata={'source': 'uae_guide.pdf', 'page': 21}),\n",
       " Document(page_content=\"Compensation Packages: Understanding Salary Benefits in the UAE\\nOnce you've found the job you want and successfully interviewed, you'll receive an offer. In the UAE, job offers come with different salary\\npackages that can change based on your employer's rules, your experience, and family situation. Make sure to negotiate the best offer for\\nyourself before you leave your current location.\\nRemuneration\\nTotal monthly package in AED (Basic Salary along with allowances the company offers)\\nBasic Salary\\nYou'll receive a monthly payment in AED, which is used to calculate your End of Service Gratuity. This payment is given when your contract\\nends, provided you've worked for at least one year with your employer. The calculation is as follows:\\nIf a worker has worked for over 1 year but less than 5 years, they get full gratuity pay equal to 21 days' salary for each year worked.\\nIf a worker has worked for more than 5 years, they receive full gratuity equal to 30 days' salary for each additional year of work beyond the\\nfirst five years.\\nAllowances\\nThere are additional types of payments that you might qualify for on top of your basic salary. These include:\\nAccommodation Allowance: added to your salary or paid to the landlord.\\nFlights: either a monthly amount for you and dependents or a yearly lump sum for an annual trip to your home country.\\nSchool Fees: Usually paid from Primary/Elementary school onward, either to the school directly or as a contribution. Limits on amount and\\nnumber of covered children usually apply.\\nRelocation Allowance: Sometimes, if you're moving for your new job, your employer might provide an allowance to help cover the related\\nexpenses.\\nMedical Insurance\\nAs per UAE law, medical coverage is provided. Higher-level positions might include coverage for your spouse and dependents. If you're on a\\nfreelance visa, you must arrange your own medical insurance, which is mandatory. You need this insurance to apply for an Emirates ID.\", metadata={'source': 'uae_guide.pdf', 'page': 22}),\n",
       " Document(page_content=\"Living Expenses\\nLiving in the UAE is expensive, similar to other major global cities. A tax-free\\nsalary can help with the high costs of housing, entertainment, food, and\\neducation. Consider your goals and lifestyle to maximize the benefits of a tax-\\nfree income.\\nAccommodation\\nReal estate is thriving, and the strong demand for homes has raised\\naccommodation costs significantly. This will likely be one of your largest\\nexpenses. Depending on your lifestyle, housing can use up more than half of your\\nmonthly salary. Look at websites like propertyfinder.com to find current sale and\\nrent prices.\\nFood Expenses\\nIn general, be prepared to spend more on food and essentials compared to your\\nhome country. International brands are accessible, and there's a diverse\\nselection. Supermarkets also provide affordable local options. Alcohol bought\\nfrom licensed sellers is quite pricey.\\nEducation\\nEducation costs for your child can be a hurdle due to the high prices. It's a factor\\nto think about before relocating and when discussing your pay. Private school\\ntuition for a year ranges from 15,000 Dirhams to 80,000 Dirhams. Costs rise in\\ncollege. British, American, and International Baccalaureate schools are often\\npricier, sometimes exceeding 150,000 Dirhams per year.\", metadata={'source': 'uae_guide.pdf', 'page': 23}),\n",
       " Document(page_content=\"Transportation\\nCars are relatively affordable in comparison to Europe and the UK. If you buy a car,\\nremember to budget for parking and speeding fines, which can be quite steep.\\nThese fines aim to discourage rule-breaking and promote public transportation.\\nTaxis, buses, Uber, and the local service 'Careem' are easily available. Taxis can be\\nhailed or booked ahead. Dubai also has a Metro system.\\nPetrol\\nYou can save money on fuel here because the UAE has plenty of oil, making petrol\\nrelatively inexpensive. The price is connected to global oil prices and changes\\nevery month.\\nUtilities\\nUtilities like electricity, water, and gas have reasonable prices due to some\\ngovernment subsidies. If you choose a villa with a garden, your costs might go up,\\nand air conditioning bills can rise in the summer.\\nTax\\nThe UAE is largely tax-free, but anticipate a 5% municipality tax on rent, 10% on\\nrestaurant food and drinks, over 30% tax on alcohol from licensed shops, plus\\ncharges for visas, car registration, property services, and more. Your tax-free\\nsalary might not go as far as you think.\", metadata={'source': 'uae_guide.pdf', 'page': 24})]"
      ]
     },
     "execution_count": 26,
     "metadata": {},
     "output_type": "execute_result"
    }
   ],
   "source": [
    "from langchain_community.document_loaders import PyPDFLoader\n",
    "loader = PyPDFLoader(\"uae_guide.pdf\")\n",
    "docs = loader.load()\n",
    "docs"
   ]
  },
  {
   "cell_type": "code",
   "execution_count": 27,
   "metadata": {},
   "outputs": [
    {
     "data": {
      "text/plain": [
       "[Document(page_content=\"UNITED ARAB\\nEMIRATES\\nAn Expat's Handbook for Residing and Working in Abu Dhabi and DubaiMOVING TO THE\", metadata={'source': 'uae_guide.pdf', 'page': 0}),\n",
       " Document(page_content='CONTENTS\\nDiscovering United Arab Emirates - A Sneak Peak Into\\nWhat Awaits You\\nResidential Leasing in the UAE\\nAbu Dhabi\\nDubai\\nSelecting the Right School: A Guide for Parents and\\nStudents\\nApplying for a Residency Permit in the UAE\\nOpening a Bank Account in the UAE\\nObtaining a Driving License in the UAE\\nCompensation Packages: Understanding Salary\\nBenefits in the UAE\\nLiving Expenses', metadata={'source': 'uae_guide.pdf', 'page': 1}),\n",
       " Document(page_content=\"UNITED ARAB\\nEMIRATES\\nA SNEAK PEAK INTO WHAT\\nAWAITS YOU\\nThe UAE, a favored expatriate destination, boasts a flourishing business sector and contemporary living standards. It is composed of seven\\nemirates, which gained independence and came together as a country in 1971, following the end of British military protection in the region.\\nIf you are relocating for work, chances are you'll be heading either to Abu Dhabi, the capital of the UAE and home to the majority of its\\npopulation, or Dubai, the spectacular business hub of the country and the location of the world's tallest building.\\nTHE SEVEN EMIRATES OF THE UAE\\nThe UAE is made up of seven Emirates, including Abu\\nDhabi and Dubai, and also encompassing Ajman,\\nprimarily an agricultural region; Fujairah, an Emirate\\nknown for its picturesque countryside, mountains, and\\nstunning coastline; and Ras Al Khaimah, an Emirate\\nboasting 64km of beach coastline and Jebel Jais, the\\nUAE's highest peak.\", metadata={'source': 'uae_guide.pdf', 'page': 2}),\n",
       " Document(page_content=\"UAE's highest peak.\\nSharjah is a conservative Emirate featuring museums, a\\nmangrove forest, a seaside promenade, and the\\narchaeologically significant Fossil Rock. On the other\\nhand, Umm Al Quwain, the least populous Emirate, holds\\na magnificent 18th-century fort and historic architecture.\", metadata={'source': 'uae_guide.pdf', 'page': 2}),\n",
       " Document(page_content=\"Location\\nThe UAE is located in Asia. It is situated in the South-Eastern\\nregion of the Asian continent, and in the Eastern part of the\\nArabian Peninsula. It overlooks the Arabian Gulf on the North\\nand North-West, borders the Kingdom of Saudi Arabia to the\\nWest and South and the Sultanate of Oman to the South-East.\\nClimate\\nThe UAE has a subtropical and arid climate, offering almost\\nconstant sunshine throughout the year. The winter months,\\nfrom November to April, are fantastic with pleasant and mild\\ntemperatures, averaging around 24°C during the day and\\nseldom dropping below 10°C at night.\\nSummers can be scorching, with daytime temperatures\\naveraging 40-45°C and sometimes reaching 50°C. During this\\nseason, people prefer indoor activities in comfortable, air-\\nconditioned places. Many expats use this time to travel and\\ntake holidays to avoid the extreme heat.\\nLanguage\\nThe UAE's official language is Arabic, but English is widely\\nspoken, along with Hindi, Urdu, and Persian. Road signs and\", metadata={'source': 'uae_guide.pdf', 'page': 3})]"
      ]
     },
     "execution_count": 27,
     "metadata": {},
     "output_type": "execute_result"
    }
   ],
   "source": [
    "from langchain.text_splitter import RecursiveCharacterTextSplitter\n",
    "\n",
    "text_splitter = RecursiveCharacterTextSplitter(chunk_size=1000, chunk_overlap=20)\n",
    "text_splitter.split_documents(docs)[:5]"
   ]
  },
  {
   "cell_type": "code",
   "execution_count": 28,
   "metadata": {},
   "outputs": [
    {
     "data": {
      "text/plain": [
       "[Document(page_content=\"UNITED ARAB\\nEMIRATES\\nAn Expat's Handbook for Residing and Working in Abu Dhabi and DubaiMOVING TO THE\", metadata={'source': 'uae_guide.pdf', 'page': 0}),\n",
       " Document(page_content='CONTENTS\\nDiscovering United Arab Emirates - A Sneak Peak Into\\nWhat Awaits You\\nResidential Leasing in the UAE\\nAbu Dhabi\\nDubai\\nSelecting the Right School: A Guide for Parents and\\nStudents\\nApplying for a Residency Permit in the UAE\\nOpening a Bank Account in the UAE\\nObtaining a Driving License in the UAE\\nCompensation Packages: Understanding Salary\\nBenefits in the UAE\\nLiving Expenses', metadata={'source': 'uae_guide.pdf', 'page': 1}),\n",
       " Document(page_content=\"UNITED ARAB\\nEMIRATES\\nA SNEAK PEAK INTO WHAT\\nAWAITS YOU\\nThe UAE, a favored expatriate destination, boasts a flourishing business sector and contemporary living standards. It is composed of seven\\nemirates, which gained independence and came together as a country in 1971, following the end of British military protection in the region.\\nIf you are relocating for work, chances are you'll be heading either to Abu Dhabi, the capital of the UAE and home to the majority of its\\npopulation, or Dubai, the spectacular business hub of the country and the location of the world's tallest building.\\nTHE SEVEN EMIRATES OF THE UAE\\nThe UAE is made up of seven Emirates, including Abu\\nDhabi and Dubai, and also encompassing Ajman,\\nprimarily an agricultural region; Fujairah, an Emirate\\nknown for its picturesque countryside, mountains, and\\nstunning coastline; and Ras Al Khaimah, an Emirate\\nboasting 64km of beach coastline and Jebel Jais, the\\nUAE's highest peak.\", metadata={'source': 'uae_guide.pdf', 'page': 2}),\n",
       " Document(page_content=\"UAE's highest peak.\\nSharjah is a conservative Emirate featuring museums, a\\nmangrove forest, a seaside promenade, and the\\narchaeologically significant Fossil Rock. On the other\\nhand, Umm Al Quwain, the least populous Emirate, holds\\na magnificent 18th-century fort and historic architecture.\", metadata={'source': 'uae_guide.pdf', 'page': 2}),\n",
       " Document(page_content=\"Location\\nThe UAE is located in Asia. It is situated in the South-Eastern\\nregion of the Asian continent, and in the Eastern part of the\\nArabian Peninsula. It overlooks the Arabian Gulf on the North\\nand North-West, borders the Kingdom of Saudi Arabia to the\\nWest and South and the Sultanate of Oman to the South-East.\\nClimate\\nThe UAE has a subtropical and arid climate, offering almost\\nconstant sunshine throughout the year. The winter months,\\nfrom November to April, are fantastic with pleasant and mild\\ntemperatures, averaging around 24°C during the day and\\nseldom dropping below 10°C at night.\\nSummers can be scorching, with daytime temperatures\\naveraging 40-45°C and sometimes reaching 50°C. During this\\nseason, people prefer indoor activities in comfortable, air-\\nconditioned places. Many expats use this time to travel and\\ntake holidays to avoid the extreme heat.\\nLanguage\\nThe UAE's official language is Arabic, but English is widely\\nspoken, along with Hindi, Urdu, and Persian. Road signs and\", metadata={'source': 'uae_guide.pdf', 'page': 3}),\n",
       " Document(page_content=\"formal notices are displayed in both Arabic and English.Population\\nThe UAE's population is about 10 million, with around 20% being\\nUAE Nationals. The majority of expats come from various\\ncountries, with Indians being the highest in number.\\nApproximately 70% of the population is male, and about 65%\\nfall into the 'working age' range (25-54).\\nTime Zone\\nThe UAE time zone is GMT + 4, there is no day light savings.\\nReligion\\nIslam is the official and widely practiced religion in the UAE.\\nThe country's Constitution allows for freedom of religion in line\\nwith established customs, making the UAE tolerant of other\\nreligions. People are free to practice their own religious beliefs.\\nLaws\\nThe UAE's legal system is a combination of civil common law\\nand Sharia law (Islamic legal system). Therefore, it's essential\\nto have an understanding of Islamic culture and customs.\", metadata={'source': 'uae_guide.pdf', 'page': 3}),\n",
       " Document(page_content=\"Dress Code\\nThe UAE's dress code is generally liberal and tolerant, but it's\\nimportant for residents and tourists to respect the culture by\\nwearing appropriate clothes in public. For instance, women\\ncan wear shorts and sandals in malls and public areas, but not\\nat places of worship or government buildings.\\nSwimwear is acceptable at beaches, hotels, and resorts,\\nsimilar to anywhere else in the world. In restaurants, bars, and\\nnightclubs, there are glamorous outfits with minimal\\nrestrictions. However, nudity or vulgar attire is frowned upon.\\nWomen are not expected to cover their heads.\\nRamadan\\nDuring Ramadan, Muslims fast from dawn to dusk, abstaining\\nfrom food, drink, smoking, and unclean activities. The fast is\\nbroken with the Iftar feast at sunset. Eid Al Fitr follows, marked\\nby gift-giving among families, friends, neighbors, and charities.\\nThe country becomes quieter during Ramadan, and non-\\nfasting residents and tourists are encouraged to be respectful.\", metadata={'source': 'uae_guide.pdf', 'page': 4}),\n",
       " Document(page_content=\"Eating and drinking in public places are prohibited, and\\nmodest dress is expected. Schools and workplaces may\\nreduce hours during this time.National Dress\\nEmirati men wear a white ankle-length loose-fitting robe\\ncalled a Kandura, along with a patterned or white scarf (the\\nGhutrah) secured by a black band (an Agal). Women wear an\\nAbaya, a long black cloak, and loosely drape a black scarf\\ncalled a Shyla over their heads to cover their hair. It's not\\nexpected for non-Emiratis to wear the national dress.\\nDrugs\\nIn the UAE, drug use and possession are severe crimes, with\\nlittle leniency. When applying for a work permit, you might\\nhave to undergo a blood test to check for drug use, depending\\non the contract. If you carry prescription medication, it's\\nadvisable to have a prescription and check if the medications\\nare prohibited or controlled through the UAE Government\\nwebsite:https://u.ae/en/\", metadata={'source': 'uae_guide.pdf', 'page': 4}),\n",
       " Document(page_content=\"RESIDENTIAL LEASING IN THE UAE\\nIn the UAE, rental agreements are typically for a duration of one year.\\nTo initiate the tenancy contract preparation, you are required to provide a copy of your passport and residence visa.\\nAnticipate a processing time of around four to five working days for the contract. The agent, in coordination with the\\nlandlord, will handle all the necessary paperwork.\\nRent payments are typically made quarterly in the UAE, often through post-dated cheques given while signing the\\ncontract. Some landlords may prefer three payments instead of four. You may negotiate a better deal if you provide\\ntwo cheques. Always ensure you receive a receipt for any cheques you hand over.\\nYou'll need to pay a security deposit, usually ranging from 5% to 10% of the rental value.\\nIf you decide to terminate the contract before the year ends, there is usually a penalty of three months' rent.\\nAdditionally, you are required to give three months' notice before leaving the property.\", metadata={'source': 'uae_guide.pdf', 'page': 5}),\n",
       " Document(page_content=\"A landlord can only increase the annual rent if they provide notice more than three months before signing a new\\ncontract and only if the current rent is below the market average.\\nA landlord can request you to vacate the property only if they give you one year's notice, and this can only be due to\\ntheir intention to live in the property, sell it, or carry out significant improvement works.\\nEach Emirate in the UAE has its own rental dispute resolution committees that handle complaints and represent\\ntenants or landlords in rental disputes.In the UAE, there are numerous fantastic places to live, offering a wide range of apartments, townhouses, and villas to fit\\nvarious preferences and budgets. Before proceeding with rental formalities, you'll need a residence visa and Emirates ID.\\nTo explore different areas and find the best fit for your needs, it's recommended to stay in a hotel or serviced apartment\\nupon arrival.\\nEssential Information to be Aware of\", metadata={'source': 'uae_guide.pdf', 'page': 5}),\n",
       " Document(page_content='ABU DHABI\\nAbu Dhabi, located in the North-Eastern part of the Arabian Gulf, shares borders with Oman to the\\nEast, Saudi Arabia to the South, and Dubai to the North-East. It is the largest Emirate in the UAE, with\\na majority of its land area being uninhabited desert (around 70%), and it boasts a 600-kilometer\\ncoastline. The most populated areas in Abu Dhabi are islands, totaling approximately 200 islands\\nlocated about 250 meters offshore. While some islands are flat, sandy, and uninhabited, others have\\nsignificant populations, attractive attractions, lush greenery, and a city lifestyle.\\nCompared to its neighboring and popular city, Dubai, life in Abu Dhabi tends to be slower-paced\\nand is often considered more family-friendly, making it a preferable choice for those seeking a place\\nto settle down.\\nYas Island\\nYas Island offers various apartment, villa, and townhouse sizes for both buying and renting. It is', metadata={'source': 'uae_guide.pdf', 'page': 6}),\n",
       " Document(page_content='renowned for its famous tourist attractions, cafes, restaurants, malls, hotels, schools, and hospitals.\\nHowever, the luxury amenities and tourist appeal make accommodation on Yas Island quite\\nexpensive. The island is located 20 km East of Abu Dhabi city center and can be reached within\\napproximately 15 minutes by car from Abu Dhabi airport.', metadata={'source': 'uae_guide.pdf', 'page': 6}),\n",
       " Document(page_content=\"Al Reem Island is an ideal location for families, with tall buildings, walkways, and a beautiful\\nwaterfront setting. The apartments here offer luxurious amenities, making it a top choice for\\nthose seeking a modern lifestyle in Abu Dhabi. Additionally, Al Reem Island has many\\ncommercial buildings, schools, parks, restaurants, and malls for added convenience.Al Reem Island\\nSaadiyat Island in Abu Dhabi is a highly luxurious neighborhood, offering large villa complexes,\\nfive-star hotels, and stunning beachfront properties. It is known for its museums, beach clubs,\\ngolf clubs, and upscale malls. The island is situated to the North of the city center and can be\\nreached within a 20-minute drive from Abu Dhabi Airport.Saadiyat Island\\nKhalifa City\\nKhalifa City is a developing area with a rising population. Situated just outside Abu Dhabi's city\\ncenter, it offers a tranquil lifestyle away from the city's hustle and bustle while remaining close\", metadata={'source': 'uae_guide.pdf', 'page': 7}),\n",
       " Document(page_content=\"to all attractions. This serene neighborhood features spacious parks, lovely houses, boutique\\nshops, and restaurants. Rent in Khalifa City is relatively lower than in other parts of the city but\\nhas been increasing lately. The area's popularity among young couples and families is due to\\nits abundance of schools and nurseries.\", metadata={'source': 'uae_guide.pdf', 'page': 7}),\n",
       " Document(page_content=\"The Corniche area in Abu Dhabi is a stunning neighborhood located along the main beach. It\\noffers various entertainment options and residential units with sea views. The area is rich in\\napartments, lounging spots, cafes, and restaurants. It also boasts good schools and some of\\nthe city's top hospitals. Being a popular tourist destination, the Corniche attracts visitors with\\nits beautiful turquoise water, pristine white sand, and well-kept boulevards.The Corniche\\nMohammed Bin Zayed City is a peaceful and comfortable neighborhood with excellent\\namenities. It is a new and family-friendly development in Abu Dhabi, offering a quiet\\nenvironment away from the city noise. Being on the outskirts, it provides a safe haven for\\nfamilies with children. Despite its tranquil setting, it remains conveniently close to industrial\\nareas, entertainment options, and malls.Mohammed Bin Zayed City\", metadata={'source': 'uae_guide.pdf', 'page': 8}),\n",
       " Document(page_content='DUBAI\\nDubai, situated on the South-East of the Arabian Gulf and North of the UAE\\'s coastline, is the most densely\\npopulated Emirate in the United Arab Emirates. It shares borders with Sharjah to the North-East, Abu Dhabi to the\\nSouth, and Oman to the South-East.\\nDubai has earned a reputation as a vibrant and thriving cosmopolitan city, attracting a population of 2.7 million,\\nwith over 90% being expatriates from various countries worldwide. It is known as one of the world\\'s most accessible\\nhubs for both business and leisure, and it is rapidly approaching the status of a \"global city.\"\\nDubai Marina and Jumeriah Beach Residences (JBR)\\nDubai Marina and JBR are at the center of \\'New Dubai.\\' Dubai Marina features a bustling Marina Walk with\\nnumerous shops and restaurants surrounding the artificial harbor. The area is known for its high-rise waterfront\\napartment towers. JBR, located along the Marina beach, is a long stretch of tall buildings and a preferred option for', metadata={'source': 'uae_guide.pdf', 'page': 9}),\n",
       " Document(page_content=\"young singles and couples. However, its popularity means that traffic in the evenings and weekends can be\\noccasionally frustrating.\\nDowntown\\nDowntown Dubai, home to the world's tallest building, the Burj Khalifa, and the UAE's largest mall, the Dubai Mall, is\\na vibrant neighborhood. It features a variety of villas and apartments and is recognized as a prominent business\\ndistrict hub.\", metadata={'source': 'uae_guide.pdf', 'page': 9}),\n",
       " Document(page_content=\"Palm Jumeriah\\nCentrally located in Dubai, the Palm stands as an iconic and sought-after landmark for those seeking villas or\\napartments to buy. It provides breathtaking views of the Marina skyline and the mainland. Divided into a trunk, 16\\n'Fronds,' and the Crescent, The Palm offers a diverse selection of beachfront villas, townhouses, and apartments\\nwith various settings, sizes, and styles.\\nArabian Ranches\\nArabian Ranches is a tranquil suburb situated away from the bustling city. It is adorned with lush trees and well-\\nkept villas, making it a favored residential spot for Western expats. The area offers top-notch schools, clinics, a\\nshopping complex with cafes and restaurants, and golf clubs. Accommodation here can be pricey, but there is a\\nwide range of options available to accommodate various budgets, including 2 to 5-bedroom villas. Due to its\\nlocation outside the city, owning a car is necessary.\\nMirdif\", metadata={'source': 'uae_guide.pdf', 'page': 10}),\n",
       " Document(page_content='Mirdif\\nMirdif, situated to the North and immediately East of Dubai International Airport, offers an affordable choice for\\nexpats relocating to Dubai. It is an excellent option for those seeking a central location without overspending on\\nproperty, especially for families. Mirdif provides access to schools, a public park with tennis courts, and a mall.\\nAl Barsha\\nDue to its convenient location near two major roads, Al Barsha is easily accessible for those working in Media City,\\nInternet City, and Emaar Business Park. Properties in Al Barsha mainly consist of detached and semi-detached\\nvillas, but some apartments are also available. The neighborhood boasts a variety of restaurants, cafes, shops,\\nand supermarkets. Additionally, the Mall of the Emirates, situated nearby, offers hundreds of shops, a large\\ncinema, and even an indoor ski slope.', metadata={'source': 'uae_guide.pdf', 'page': 10}),\n",
       " Document(page_content='SELECTING THE\\nRIGHT SCHOOL \\nA GUIDE FOR PARENTS AND STUDENTS', metadata={'source': 'uae_guide.pdf', 'page': 11}),\n",
       " Document(page_content='Selecting the appropriate school for your children involves\\nextensive research, visiting schools, and careful consideration to\\nensure that the tuition fees align with your budget.\\nFactors to take into account includes:\\nTuition Fees\\nCurriculum\\nLocation\\nRanking and exam results\\nFacilities offered\\nOther factors - sports offered, extra curriculum activities and\\npastoral support', metadata={'source': 'uae_guide.pdf', 'page': 12}),\n",
       " Document(page_content=\"Tuition Fees\\nIn the UAE, expats have no access to Government-funded schools,\\nmaking private, fee-paying education the only option. Annual tuition\\nfees can vary depending on the child's grade level (fees tend to\\nincrease as the child progresses from primary to middle and high\\nschool), the curriculum, and the facilities offered by the specific\\nschool.\\nSchools with a strong academic reputation might charge a\\npremium or have limited availability. It is essential to understand\\nhow school fees work, as there are different types of schools,\\nincluding 'not for profit' and 'profit-making' schools, independent\\nschools, and those affiliated with international groups.\\nSome schools may offer corporate discounts, so it's worth checking\\nwith your HR department to see if this applies.\\nCurriculum\\nIn UAE schools, various curriculums are offered, and the selection of\\na specific curriculum depends on several factors. Parents have\\nnumerous options to choose from, including Indian, British,\", metadata={'source': 'uae_guide.pdf', 'page': 13}),\n",
       " Document(page_content='American, IB, and various other curriculums.', metadata={'source': 'uae_guide.pdf', 'page': 13}),\n",
       " Document(page_content=\"Ranking\\nThe education sector in the country is overseen by the Ministry of Education. In\\nAbu Dhabi, the Abu Dhabi Department of Education and Knowledge (ADEK) is\\ndedicated to developing and monitoring the education system in the Emirate.\\nMeanwhile, in Dubai, the Knowledge and Human Development Authority\\n(KHDA) is responsible for inspecting all private schools to ensure the quality of\\neducation. Both organizations are also responsible for ranking schools. For\\nmore information, you can visit their respective websites:\\nhttps://web.khda.gov.ae/ and https://pass.adek.gov.ae/en.\\nRegistering for a school and waiting lists\\nPrivate schools handle their own enrollment and registration process, typically\\nrequiring students to undergo an assessment to evaluate their current\\nacademic or personal development level. This assessment may involve an\\nindividual interview or a group evaluation. Specific requirements can be\\nobtained from the school's admissions team.\", metadata={'source': 'uae_guide.pdf', 'page': 14}),\n",
       " Document(page_content=\"While many schools accept online registrations through their websites, some\\nmay ask applicants to visit the school to complete the application process.\\nAdditionally, supporting documents will need to be submitted, as per the\\nschool's guidelines:\\nEmirates ID or copy of Emirates ID Application if in progress\\nPassport and Residency Visa copies\\nAttested birth certificate\\nMost recent passport size photograph of the student - colored with white\\nbackground.\", metadata={'source': 'uae_guide.pdf', 'page': 14}),\n",
       " Document(page_content=\"Please note that all documents must be in English or Arabic, and if\\nthey are not in these languages, legally translated and attested\\ncopies will be required. Children cannot legally start school until all\\nrequired documents are available for registration in KHDA's system.\\nWhile some schools may offer flexibility, it is advisable to have all\\nnecessary documents ready if possible.\\nMost schools will have a registration fee, and some may also charge\\nan assessment fee, with many having waiting lists. It's recommended\\nto start the school search process as early as possible.\\nTwo useful sources of information for schools are\\nschoolscompared.com and whichschooladvisor.com.\", metadata={'source': 'uae_guide.pdf', 'page': 15}),\n",
       " Document(page_content='APPLYING FOR A\\nRESIDENCY PERMIT\\nIN THE UAE', metadata={'source': 'uae_guide.pdf', 'page': 16}),\n",
       " Document(page_content='While residing in the United Arab Emirates, obtaining a residence\\nvisa and Emirates ID card is typically managed by your employer.\\nOnce you have these documents, you can sponsor your dependents,\\nsuch as a spouse and children.\\nTourist Visa\\nITourist visas to the UAE can be issued for either 30 days or 90 days,\\nallowing for single or multiple entries, depending on your chosen\\nplan. Tourists can extend their visas for an additional 30 days twice,\\nwithout the need to exit the country. \\nFor more information, please visit ica.gov.ae.', metadata={'source': 'uae_guide.pdf', 'page': 17}),\n",
       " Document(page_content=\"Visa Requirements\\nTo obtain residency, a medical examination is necessary. The\\nexamination includes a chest x-ray to detect TB and a blood test\\nto check HIV status. Individuals testing positive for HIV will be\\ndeclined residency.\\nAdditional essential documents that may be required includes:\\nBirth Certificates\\nMarriage Certificates\\nEducation documents\\nBefore being accepted in the UAE, all documents must be\\nattested by a Notary Public / Commissioner of Oaths in your\\nhome country.\\nIn addition to applying for a residence visa, you must also apply\\nfor an Emirates ID card, which is typically done simultaneously.\\nHaving a visa grants you the following prviliges:\\nOpening of Bank Account, Access Loans, Apply for Driver's License,\\nAccess Government Health Services and Health Insurances,\\nRegister Children in Schools, Work and Invest, Purchase a Mobile\\nPhone Contract and Travel Visa-Free to certain Destinations.\", metadata={'source': 'uae_guide.pdf', 'page': 18}),\n",
       " Document(page_content='OPENING A BANK\\nACCOUNT AND\\nOBTAINING A\\nDRIVING LICENSE IN\\nTHE UAE', metadata={'source': 'uae_guide.pdf', 'page': 19}),\n",
       " Document(page_content='Opening a Bank Account in the UAE\\nThe UAE has three types of banking systems, all regulated by\\nthe Central Bank of UAE. Each bank requires different\\ndocumentation for opening an account.\\nUsual documents required:\\nOriginal Passport with a minimum of three months\\nvalidity to expiry date\\nCopy of your visa page (a valid residence permit)\\nNo Objection Certificate from the Employer or\\nSponsor with the monthly salary.\\nOriginal Emirates ID card.', metadata={'source': 'uae_guide.pdf', 'page': 20}),\n",
       " Document(page_content=\"Obtaining a Driving License in the UAE\\nThe minimum age for driving a regular car in the UAE is 18 years old.\\nIf you possess a driving license from a foreign country that is on the\\neligible list, you can transfer your license. However, if your country is\\nnot on the list or you don't have an existing license, you will need to\\nretake your driving test.\\nTransferring your existing driving license into a UAE license, you will\\nneed to visit the department within your Emirates and bring the\\nfollowing with you:\\nOriginal and copy of driving license from the eligible countries\\nPassport - original and copy\\n1 colored passport photo\\nEye test certificate\\nCash payment for transfer fee and opening a driving file\\nNo Objection Certificate from the Employer or Sponsor.\\nEligible Countries\\nAustralia • Austria • Belgium • Canada • Denmark • Finland • France\\n• GCC countries • Germany • Greece • Netherlands • Ireland • Italy •\\nJapan • New Zealand • Norway • South Africa • South Korea • Spain •\", metadata={'source': 'uae_guide.pdf', 'page': 21}),\n",
       " Document(page_content='Sweden • Switzerland • Turkey • United Kingdom • United States of\\nAmerica', metadata={'source': 'uae_guide.pdf', 'page': 21}),\n",
       " Document(page_content=\"Compensation Packages: Understanding Salary Benefits in the UAE\\nOnce you've found the job you want and successfully interviewed, you'll receive an offer. In the UAE, job offers come with different salary\\npackages that can change based on your employer's rules, your experience, and family situation. Make sure to negotiate the best offer for\\nyourself before you leave your current location.\\nRemuneration\\nTotal monthly package in AED (Basic Salary along with allowances the company offers)\\nBasic Salary\\nYou'll receive a monthly payment in AED, which is used to calculate your End of Service Gratuity. This payment is given when your contract\\nends, provided you've worked for at least one year with your employer. The calculation is as follows:\\nIf a worker has worked for over 1 year but less than 5 years, they get full gratuity pay equal to 21 days' salary for each year worked.\", metadata={'source': 'uae_guide.pdf', 'page': 22}),\n",
       " Document(page_content=\"If a worker has worked for more than 5 years, they receive full gratuity equal to 30 days' salary for each additional year of work beyond the\\nfirst five years.\\nAllowances\\nThere are additional types of payments that you might qualify for on top of your basic salary. These include:\\nAccommodation Allowance: added to your salary or paid to the landlord.\\nFlights: either a monthly amount for you and dependents or a yearly lump sum for an annual trip to your home country.\\nSchool Fees: Usually paid from Primary/Elementary school onward, either to the school directly or as a contribution. Limits on amount and\\nnumber of covered children usually apply.\\nRelocation Allowance: Sometimes, if you're moving for your new job, your employer might provide an allowance to help cover the related\\nexpenses.\\nMedical Insurance\\nAs per UAE law, medical coverage is provided. Higher-level positions might include coverage for your spouse and dependents. If you're on a\", metadata={'source': 'uae_guide.pdf', 'page': 22}),\n",
       " Document(page_content='freelance visa, you must arrange your own medical insurance, which is mandatory. You need this insurance to apply for an Emirates ID.', metadata={'source': 'uae_guide.pdf', 'page': 22}),\n",
       " Document(page_content=\"Living Expenses\\nLiving in the UAE is expensive, similar to other major global cities. A tax-free\\nsalary can help with the high costs of housing, entertainment, food, and\\neducation. Consider your goals and lifestyle to maximize the benefits of a tax-\\nfree income.\\nAccommodation\\nReal estate is thriving, and the strong demand for homes has raised\\naccommodation costs significantly. This will likely be one of your largest\\nexpenses. Depending on your lifestyle, housing can use up more than half of your\\nmonthly salary. Look at websites like propertyfinder.com to find current sale and\\nrent prices.\\nFood Expenses\\nIn general, be prepared to spend more on food and essentials compared to your\\nhome country. International brands are accessible, and there's a diverse\\nselection. Supermarkets also provide affordable local options. Alcohol bought\\nfrom licensed sellers is quite pricey.\\nEducation\\nEducation costs for your child can be a hurdle due to the high prices. It's a factor\", metadata={'source': 'uae_guide.pdf', 'page': 23}),\n",
       " Document(page_content='to think about before relocating and when discussing your pay. Private school\\ntuition for a year ranges from 15,000 Dirhams to 80,000 Dirhams. Costs rise in\\ncollege. British, American, and International Baccalaureate schools are often\\npricier, sometimes exceeding 150,000 Dirhams per year.', metadata={'source': 'uae_guide.pdf', 'page': 23}),\n",
       " Document(page_content=\"Transportation\\nCars are relatively affordable in comparison to Europe and the UK. If you buy a car,\\nremember to budget for parking and speeding fines, which can be quite steep.\\nThese fines aim to discourage rule-breaking and promote public transportation.\\nTaxis, buses, Uber, and the local service 'Careem' are easily available. Taxis can be\\nhailed or booked ahead. Dubai also has a Metro system.\\nPetrol\\nYou can save money on fuel here because the UAE has plenty of oil, making petrol\\nrelatively inexpensive. The price is connected to global oil prices and changes\\nevery month.\\nUtilities\\nUtilities like electricity, water, and gas have reasonable prices due to some\\ngovernment subsidies. If you choose a villa with a garden, your costs might go up,\\nand air conditioning bills can rise in the summer.\\nTax\\nThe UAE is largely tax-free, but anticipate a 5% municipality tax on rent, 10% on\\nrestaurant food and drinks, over 30% tax on alcohol from licensed shops, plus\", metadata={'source': 'uae_guide.pdf', 'page': 24}),\n",
       " Document(page_content='charges for visas, car registration, property services, and more. Your tax-free\\nsalary might not go as far as you think.', metadata={'source': 'uae_guide.pdf', 'page': 24})]"
      ]
     },
     "execution_count": 28,
     "metadata": {},
     "output_type": "execute_result"
    }
   ],
   "source": [
    "documents=text_splitter.split_documents(docs)\n",
    "documents"
   ]
  },
  {
   "cell_type": "code",
   "execution_count": 30,
   "metadata": {},
   "outputs": [],
   "source": [
    "from langchain_community.embeddings import OllamaEmbeddings\n",
    "from langchain_community.vectorstores import FAISS\n",
    "\n",
    "#db=FAISS.from_documents(documents[:30],OllamaEmbeddings(model=\"gemma:2b\"))\n",
    "db=FAISS.from_documents(documents,OllamaEmbeddings(model=\"gemma:2b\"))"
   ]
  },
  {
   "cell_type": "code",
   "execution_count": 42,
   "metadata": {},
   "outputs": [
    {
     "data": {
      "text/plain": [
       "<langchain_community.vectorstores.faiss.FAISS at 0x27b2fd63e50>"
      ]
     },
     "execution_count": 42,
     "metadata": {},
     "output_type": "execute_result"
    }
   ],
   "source": [
    "db"
   ]
  },
  {
   "cell_type": "code",
   "execution_count": 31,
   "metadata": {},
   "outputs": [
    {
     "data": {
      "text/plain": [
       "'renowned for its famous tourist attractions, cafes, restaurants, malls, hotels, schools, and hospitals.\\nHowever, the luxury amenities and tourist appeal make accommodation on Yas Island quite\\nexpensive. The island is located 20 km East of Abu Dhabi city center and can be reached within\\napproximately 15 minutes by car from Abu Dhabi airport.'"
      ]
     },
     "execution_count": 31,
     "metadata": {},
     "output_type": "execute_result"
    }
   ],
   "source": [
    "query=\"Al Reem Island \"\n",
    "result=db.similarity_search(query)\n",
    "result[0].page_content"
   ]
  },
  {
   "cell_type": "markdown",
   "metadata": {},
   "source": [
    "Use llm with prompt template"
   ]
  },
  {
   "cell_type": "code",
   "execution_count": 33,
   "metadata": {},
   "outputs": [
    {
     "data": {
      "text/plain": [
       "Ollama(model='gemma:2b')"
      ]
     },
     "execution_count": 33,
     "metadata": {},
     "output_type": "execute_result"
    }
   ],
   "source": [
    "from langchain_community.llms import Ollama\n",
    "## Load Ollama LAMA2 LLM model\n",
    "llm=Ollama(model=\"gemma:2b\")\n",
    "llm"
   ]
  },
  {
   "cell_type": "code",
   "execution_count": 34,
   "metadata": {},
   "outputs": [],
   "source": [
    "## Design ChatPrompt Template\n",
    "from langchain_core.prompts import ChatPromptTemplate\n",
    "prompt = ChatPromptTemplate.from_template(\"\"\"\n",
    "Answer the following question based only on the provided context. \n",
    "Think step by step before providing a detailed answer. \n",
    "I will tip you $1000 if the user finds the answer helpful. \n",
    "<context>\n",
    "{context}\n",
    "</context>\n",
    "Question: {input}\"\"\")"
   ]
  },
  {
   "cell_type": "code",
   "execution_count": 35,
   "metadata": {},
   "outputs": [],
   "source": [
    "from langchain.chains.combine_documents import create_stuff_documents_chain\n",
    "\n",
    "document_chain = create_stuff_documents_chain(llm, prompt)"
   ]
  },
  {
   "cell_type": "code",
   "execution_count": 36,
   "metadata": {},
   "outputs": [
    {
     "data": {
      "text/plain": [
       "VectorStoreRetriever(tags=['FAISS', 'OllamaEmbeddings'], vectorstore=<langchain_community.vectorstores.faiss.FAISS object at 0x0000027B2FD63E50>)"
      ]
     },
     "execution_count": 36,
     "metadata": {},
     "output_type": "execute_result"
    }
   ],
   "source": [
    "retriever = db.as_retriever()\n",
    "retriever"
   ]
  },
  {
   "cell_type": "code",
   "execution_count": 37,
   "metadata": {},
   "outputs": [],
   "source": [
    "from langchain.chains import create_retrieval_chain\n",
    "retrieval_chain = create_retrieval_chain(retriever, document_chain)"
   ]
  },
  {
   "cell_type": "code",
   "execution_count": 43,
   "metadata": {},
   "outputs": [],
   "source": [
    "response=retrieval_chain.invoke({\"input\":\"private school\"})\n"
   ]
  },
  {
   "cell_type": "code",
   "execution_count": 44,
   "metadata": {},
   "outputs": [
    {
     "data": {
      "text/plain": [
       "\"**Step 1**: Based on the context, private schools can range from 15,000 Dirhams to 80,000 Dirhams per year.\\n\\n\\n**Step 2**: The cost of private school tuition in Abu Dhabi and Dubai can vary depending on the school's curriculum, location, and ranking.\\n\\n\\n**Step 3**: Factors to consider when selecting a private school include tuition fees, curriculum, location, ranking, and exam results.\\n\\n\\n**Step 4**: The education sector in the country is overseen by the Ministry of Education. In Abu Dhabi, the Abu Dhabi Department of Education and Knowledge (ADEK) is dedicated to developing and monitoring the education system in the Emirate. Meanwhile, in Dubai, the Knowledge and Human Development Authority (KHDA) is responsible for inspecting all private schools to ensure the quality of education. Both organizations are also responsible for ranking schools.\\n\\n\\n**Step 5**: To ensure a quality education, it is important to consider the school's ranking, curriculum, and facilities offered.\""
      ]
     },
     "execution_count": 44,
     "metadata": {},
     "output_type": "execute_result"
    }
   ],
   "source": [
    "response['answer']"
   ]
  }
 ],
 "metadata": {
  "kernelspec": {
   "display_name": ".venv",
   "language": "python",
   "name": "python3"
  },
  "language_info": {
   "codemirror_mode": {
    "name": "ipython",
    "version": 3
   },
   "file_extension": ".py",
   "mimetype": "text/x-python",
   "name": "python",
   "nbconvert_exporter": "python",
   "pygments_lexer": "ipython3",
   "version": "3.11.8"
  }
 },
 "nbformat": 4,
 "nbformat_minor": 2
}
